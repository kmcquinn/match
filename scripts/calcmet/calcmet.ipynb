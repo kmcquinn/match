{
 "cells": [
  {
   "cell_type": "code",
   "execution_count": 47,
   "metadata": {
    "collapsed": false
   },
   "outputs": [
    {
     "data": {
      "text/plain": [
       "'\\nTo Do:\\n- Fix cogas\\n'"
      ]
     },
     "execution_count": 47,
     "metadata": {},
     "output_type": "execute_result"
    }
   ],
   "source": [
    "import numpy as np\n",
    "from sys import argv as arg\n",
    "import os\n",
    "from astropy.table import Table,Column,hstack,vstack\n",
    "zsol = 8.69     # Solar z\n",
    "fake = 8.0     # Test gas z\n",
    "\n",
    "'''\n",
    "To Do:\n",
    "- Fix cogas\n",
    "'''"
   ]
  },
  {
   "cell_type": "code",
   "execution_count": 2,
   "metadata": {
    "collapsed": false
   },
   "outputs": [],
   "source": [
    "# Searches for item in a list and returns the index of the item in the list if it is in the list\n",
    "def itin(x,pop):\n",
    "    for i in range(len(pop)):\n",
    "        if x == pop[i]:\n",
    "            return int(i)\n",
    "\n",
    "'''\n",
    "Defines variables from out.final file in the table 'dat'.\n",
    "'''\n",
    "\n",
    "def define(bop):\n",
    "    global totsf\n",
    "    global totsfu\n",
    "    global totsfl\n",
    "    global dat\n",
    "    \n",
    "    f=open(bop,'r')\n",
    "    fir = f.readline()\n",
    "    dats=[i.split() for i in f]\n",
    "    f.close()\n",
    "    \n",
    "    # Total Star Formation Rate\n",
    "    totsf = float(fir.split()[1])\n",
    "    totsfu = float(fir.split()[2])\n",
    "    totsfl = float(fir.split()[3])\n",
    "    \n",
    "    # Create a table with the rest of the data\n",
    "    dat=Table(rows=dats,names=['start','end','dm','sfr','sfru','sfrl','met','metu','metl','uh',\n",
    "                               'uhh','well','csf','csfu','csfl'],\n",
    "              dtype=['f16','f16','f16','f16','f16','f16','f16','f16','f16','f16','f16','f16','f16',\n",
    "                     'f16','f16'])\n",
    "    \n",
    "'''\n",
    "Reads in oxygen abundances from galaxy_list_O.txt as the table 'gas'\n",
    "'''\n",
    "\n",
    "def gastab(boop):\n",
    "    global gas\n",
    "    f=open(boop,'r')\n",
    "    nam=f.readline().split()\n",
    "    gal=[[i.split()[0],i.split()[3],i.split()[5],i.split()[6],i.split()[8]] for i in f]\n",
    "    f.close()\n",
    "    gas=Table(rows=gal,names=['gal','z','zerr','NO','NOerr'],dtype=['S','f16','f16','f16','f16'])\n",
    "    return gas\n",
    "\n",
    "'''\n",
    "Reads in HI abundances from metals_opticaldata.txt as the table 'hi'\n",
    "'''\n",
    "\n",
    "def hitab(boop):\n",
    "    global hi\n",
    "    f=open(boop,'r')\n",
    "    for i in range(31):\n",
    "        f.readline()\n",
    "    ale=[[i.split()[1], i.split()[18], i.split()[19]] for i in f]     # Takes galaxy name, \n",
    "                                                                      # log HI flux, and dist in Mpc\n",
    "    f.close()\n",
    "    hi=Table(rows=ale,names=['gal','loghi','dist'],dtype=['S','f8','f8'])"
   ]
  },
  {
   "cell_type": "code",
   "execution_count": 35,
   "metadata": {
    "collapsed": false
   },
   "outputs": [],
   "source": [
    "'''\n",
    "Calculates the amount of oxygen formed in the galaxy with 3 different nucleosynthesis yields from \n",
    "Nomoto et al. 2006, which are p1, p2, and p3.\n",
    "'''\n",
    "\n",
    "def cogal(t,u,l):     # t = total star formation\n",
    "    t=float(t)\n",
    "    p1=0.0054\n",
    "    p2=0.00658\n",
    "    p3=0.0086\n",
    "    return [[t*p1,u*p1,l*p1],[t*p2,u*p2,l*p2],[t*p3,u*p3,l*p3]]"
   ]
  },
  {
   "cell_type": "code",
   "execution_count": 36,
   "metadata": {
    "collapsed": false
   },
   "outputs": [],
   "source": [
    "'''\n",
    "Calculates the mass of oxygen in the gas.\n",
    "'''\n",
    "# Need to include zerr in final output!\n",
    "\n",
    "def cogas(nam):     # nam = galaxy name, no 0's before number (ex. UGC8508, not UGC08508)\n",
    "\n",
    "    if nam[3] == ' ':\n",
    "        nam = nam[0:3]+nam[4:]\n",
    "############### Takes O abundance from known data ###################\n",
    "\n",
    "    if nam in gas['gal']:     # Checks if galaxy's oxygen abundances are available\n",
    "        i=itin(nam,gas['gal'])\n",
    "        z=gas['z'][i]\n",
    "        zerr=gas['zerr'][i]\n",
    "\n",
    "    else:     # Changes input nam if galaxy isn't found in data\n",
    "        mam = nam[0:3]+'0'+nam[3:]\n",
    "        i=itin(mam,gas['gal'])\n",
    "        if i != None:\n",
    "            z=gas['z'][i]\n",
    "            zerr=gas['zerr'][i]\n",
    "        else:\n",
    "            mam = mam[0:3]+'0'+mam[3:]\n",
    "            i=itin(mam,gas['gal'])\n",
    "            if i != None:\n",
    "                z=gas['z'][i]\n",
    "                zerr=gas['zerr'][i]\n",
    "            else:\n",
    "                return 'No oxygen abundance available for '+nam+'.'\n",
    "\n",
    "############### Calculates atomic hydrogen gas mass from HI flux ##################\n",
    "\n",
    "    if nam in hi['gal']:\n",
    "        i=itin(nam,hi['gal'])\n",
    "        ahg=2.356e5*(float(hi['dist'][i])**2)*10**(float(hi['loghi'][i]))\n",
    "        # ahg = atomic hydrogen gas mass\n",
    "    else:     # Changes input nam if galaxy isn't found in database\n",
    "        ham = nam[0:3]+'0'+nam[3:]\n",
    "        i=itin(ham,hi['gal'])\n",
    "        if i!=None:\n",
    "            ahg=2.356e5*(float(hi['dist'][i])**2)*10**(float(hi['loghi'][i]))\n",
    "        else:\n",
    "            ham = ham[0:3]+'0'+ham[3:]\n",
    "            i=itin(ham,gas['gal'])\n",
    "            if i != None:\n",
    "                ahg=2.356e5*(float(hi['dist'][i])**2)*10**(float(hi['loghi'][i]))\n",
    "            else:\n",
    "                return 'No HI flux available for '+nam+'.'\n",
    "\n",
    "\n",
    "    agm = 1.33 * ahg     # Total atomic gas mass, includes helium\n",
    "    mg = 0.1 * agm     # Molecular gas mass (assuming no availabe measurements)\n",
    "    gm = agm + mg     # Total mass of gas\n",
    "    return gm*16.*10**(z-12.)"
   ]
  },
  {
   "cell_type": "code",
   "execution_count": 37,
   "metadata": {
    "collapsed": false
   },
   "outputs": [],
   "source": [
    "'''\n",
    "Calculates the amount of oxygen locked in the stars.\n",
    "'''\n",
    "\n",
    "def costar(r,ru,rl,st,et,z,zerru,zerrl):    # Takes sfr, sfr upper and lower uncertainty, time bin, metallicity,\n",
    "                                            # upper and lower uncertainties\n",
    "    Rec = 1./3.     # Recycling Fraction\n",
    "    somd = []     # Scaled oxygen mass density for each time bin\n",
    "    sm = []     # Stellar mass for each time bin\n",
    "    for i in range(len(z)):\n",
    "        if r[i] != 0:\n",
    "            ond = z[i]+zsol     # Oxygen number density in stars\n",
    "            osca = 1.     # Oxygen scale factor (need to find actual value)\n",
    "            # need to propagate some error in the line below this\n",
    "            somd.append(10**((ond-12)+np.log10((16.)/(0.75*1.0079 + 0.25*4.0026)))*osca)\n",
    "            sm.append((10**et[i]-10**st[i])*r[i])\n",
    "            # also need to propagate that error up there\n",
    "    om = []     # Oxygen mass in stars for each time bin\n",
    "    for i in range(len(somd)):\n",
    "        # i smell impending error propagation\n",
    "        om.append((1-Rec)*sm[i]*somd[i])\n",
    "    return sum(om)     # Total oxygen mass in stars"
   ]
  },
  {
   "cell_type": "code",
   "execution_count": 38,
   "metadata": {
    "collapsed": false
   },
   "outputs": [],
   "source": [
    "'''\n",
    "Calculates the total oxygen budget.\n",
    "'''\n",
    "def obud(g,s,t):     # Takes oxygen in gas, stars, and total oxygen formed\n",
    "    ans= (g+s)/t\n",
    "    err=0"
   ]
  },
  {
   "cell_type": "code",
   "execution_count": 117,
   "metadata": {
    "collapsed": false
   },
   "outputs": [],
   "source": [
    "'''\n",
    "Add results to a really ugly file.\n",
    "'''\n",
    "# apparently blank.ljust is a good way of making a really pretty file\n",
    "def maketab(nam,filnam):\n",
    "    define(filnam)\n",
    "    gastab('galaxy_list_O.txt')\n",
    "    hitab('metals_opticaldata.txt')\n",
    "    a=cogas(nam)\n",
    "    b=costar(dat['sfr'],dat['sfru'],dat['sfrl'],dat['start'],dat['end'],dat['met'],dat['metu'],dat['metl'])\n",
    "    c1,c2,c3=cogal(totsf,totsfu,totsfl)\n",
    "    if a[:2]!='No':\n",
    "        if 'results' in os.listdir(\".\"):\n",
    "            thi=open('results','a')\n",
    "            thi.write('\\n')\n",
    "            thi.write(nam+'\\t'+str(a)+'\\t'+str(b)+'\\t'+str(c1[0])+'\\t'+str(c1[1])+'\\t'+str(c1[2])+'\\t'+str(c2[0])+'\\t'\n",
    "                      +str(c2[1])+'\\t'+str(c2[2])+'\\t'+str(c3[0])+'\\t'+str(c3[1])+'\\t'+str(c3[2]))\n",
    "            thi.close()\n",
    "        else:\n",
    "            thi=open('results','w')\n",
    "            thi.write('Name\\tO_gas\\tO_star\\tTot1\\t+\\t-\\tTot2\\t+\\t-\\tTot3\\t+\\t-')\n",
    "            thi.write('\\n')\n",
    "            thi.write(nam+'\\t'+str(a)+'\\t'+str(b)+'\\t'+str(c1[0])+'\\t'+str(c1[1])+'\\t'+str(c1[2])+'\\t'+str(c2[0])+'\\t'\n",
    "                      +str(c2[1])+'\\t'+str(c2[2])+'\\t'+str(c3[0])+'\\t'+str(c3[1])+'\\t'+str(c3[2]))\n",
    "            thi.close()"
   ]
  },
  {
   "cell_type": "code",
   "execution_count": 111,
   "metadata": {
    "collapsed": false
   },
   "outputs": [
    {
     "data": {
      "text/plain": [
       "'\\nWrite to table, add galaxies\\n'"
      ]
     },
     "execution_count": 111,
     "metadata": {},
     "output_type": "execute_result"
    }
   ],
   "source": [
    "# Proper syntax: python calcmet.py [name of output file] [name of galaxy]\n",
    "\n",
    "def main():\n",
    "    \n",
    "\n",
    "#if __name__ == '__main__':\n",
    "#    main()"
   ]
  }
 ],
 "metadata": {
  "kernelspec": {
   "display_name": "Python 2",
   "language": "python",
   "name": "python2"
  },
  "language_info": {
   "codemirror_mode": {
    "name": "ipython",
    "version": 2
   },
   "file_extension": ".py",
   "mimetype": "text/x-python",
   "name": "python",
   "nbconvert_exporter": "python",
   "pygments_lexer": "ipython2",
   "version": "2.7.11"
  }
 },
 "nbformat": 4,
 "nbformat_minor": 0
}
