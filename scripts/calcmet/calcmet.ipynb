{
 "cells": [
  {
   "cell_type": "code",
   "execution_count": 63,
   "metadata": {
    "collapsed": false
   },
   "outputs": [],
   "source": [
    "import numpy as np\n",
    "from sys import argv as arg\n",
    "import os\n",
    "from astropy.table import Table,Column,hstack,vstack\n",
    "zsol = 8.69     # Solar z\n",
    "fake = 8.0     # Test gas z"
   ]
  },
  {
   "cell_type": "code",
   "execution_count": 64,
   "metadata": {
    "collapsed": false
   },
   "outputs": [],
   "source": [
    "# Searches for item in a list and returns the index of the item in the list if it is in the list\n",
    "def itin(x,pop):\n",
    "    for i in range(len(pop)):\n",
    "        if x == pop[i]:\n",
    "            return int(i)\n",
    "\n",
    "'''\n",
    "Defines variables from out.final file in the table 'dat'.\n",
    "'''\n",
    "\n",
    "def define(bop):\n",
    "    global totsf\n",
    "    global totsfu\n",
    "    global totsfl\n",
    "    global dat\n",
    "    \n",
    "    f=open(bop,'r')\n",
    "    fir = f.readline()\n",
    "    dats=[i.split() for i in f]\n",
    "    f.close()\n",
    "    \n",
    "    # Total Star Formation Rate\n",
    "    totsf = float(fir.split()[1])\n",
    "    totsfu = float(fir.split()[2])\n",
    "    totsfl = float(fir.split()[3])\n",
    "    \n",
    "    # Create a table with the rest of the data\n",
    "    dat=Table(rows=dats,names=['start','end','dm','sfr','sfru','sfrl','met','metu','metl','uh',\n",
    "                               'uhh','well','csf','csfu','csfl'],\n",
    "              dtype=['f','f','f','f','f','f','f','f','f','f','f','f','f','f','f'])\n",
    "    \n",
    "'''\n",
    "Reads in oxygen abundances from galaxy_list_O.txt as the table 'gas'\n",
    "'''\n",
    "\n",
    "def gastab(boop):\n",
    "    global gas\n",
    "    f=open(boop,'r')\n",
    "    nam=f.readline().split()\n",
    "    gal=[[i.split()[0],i.split()[3],i.split()[5],i.split()[6],i.split()[8]] for i in f]\n",
    "    f.close()\n",
    "    gas=Table(rows=gal,names=['gal','z','zerr','NO','NOerr'],dtype=['S','f8','f8','f8','f8'])\n",
    "    return gas\n",
    "\n",
    "'''\n",
    "Reads in HI abundances from metals_opticaldata.txt as the table 'hi'\n",
    "'''\n",
    "\n",
    "def hitab(boop):\n",
    "    global hi\n",
    "    f=open(boop,'r')\n",
    "    for i in range(31):\n",
    "        f.readline()\n",
    "    ale=[[i.split()[1], i.split()[18], i.split()[19]] for i in f]     # Takes galaxy name, \n",
    "                                                                      # log HI flux, and dist in Mpc\n",
    "    f.close()\n",
    "    hi=Table(rows=ale,names=['gal','loghi','dist'],dtype=['S','f8','f8'])"
   ]
  },
  {
   "cell_type": "code",
   "execution_count": 65,
   "metadata": {
    "collapsed": false
   },
   "outputs": [],
   "source": [
    "'''\n",
    "Calculates the amount of oxygen formed in the galaxy with 3 different nucleosynthesis yields from \n",
    "Nomoto et al. 2006, which are p1, p2, and p3.\n",
    "'''\n",
    "\n",
    "def cogal(t,u,l):     # t = total star formation\n",
    "    t=float(t)\n",
    "    p1=0.0054\n",
    "    p2=0.00658\n",
    "    p3=0.0086\n",
    "    return [[t*p1,u*p1,l*p1],[t*p2,u*p2,l*p2],[t*p3,u*p3,l*p3]]"
   ]
  },
  {
   "cell_type": "code",
   "execution_count": 66,
   "metadata": {
    "collapsed": false
   },
   "outputs": [],
   "source": [
    "'''\n",
    "Calculates the mass of oxygen in the gas.\n",
    "'''\n",
    "# Need to include zerr in final output!\n",
    "\n",
    "def cogas(nam):     # nam = galaxy name, no 0's before number (ex. UGC8508, not UGC08508)\n",
    "\n",
    "    if len(nam)!= 3 and nam[3] == ' ':\n",
    "        nam = nam[0:3]+nam[4:]\n",
    "############### Takes O abundance from known data ###################\n",
    "\n",
    "    if nam in gas['gal']:     # Checks if galaxy's oxygen abundances are available\n",
    "        i=itin(nam,gas['gal'])\n",
    "        z=gas['z'][i]\n",
    "        zerr=gas['zerr'][i]\n",
    "\n",
    "    else:     # Changes input nam if galaxy isn't found in data\n",
    "        mam = nam[0:3]+'0'+nam[3:]\n",
    "        i=itin(mam,gas['gal'])\n",
    "        if i != None:\n",
    "            z=gas['z'][i]\n",
    "            zerr=gas['zerr'][i]\n",
    "        else:\n",
    "            mam = mam[0:3]+'0'+mam[3:]\n",
    "            i=itin(mam,gas['gal'])\n",
    "            if i != None:\n",
    "                z=gas['z'][i]\n",
    "                zerr=gas['zerr'][i]\n",
    "            else:\n",
    "                return 'No oxygen abundance available for '+nam+'.'\n",
    "\n",
    "############### Calculates atomic hydrogen gas mass from HI flux ##################\n",
    "\n",
    "    if nam in hi['gal']:\n",
    "        i=itin(nam,hi['gal'])\n",
    "        ahg=2.356e5*(float(hi['dist'][i])**2)*10**(float(hi['loghi'][i]))\n",
    "        # ahg = atomic hydrogen gas mass\n",
    "    else:     # Changes input nam if galaxy isn't found in database\n",
    "        ham = nam[0:3]+'0'+nam[3:]\n",
    "        i=itin(ham,hi['gal'])\n",
    "        if i!=None:\n",
    "            ahg=2.356e5*(float(hi['dist'][i])**2)*10**(float(hi['loghi'][i]))\n",
    "        else:\n",
    "            ham = ham[0:3]+'0'+ham[3:]\n",
    "            i=itin(ham,gas['gal'])\n",
    "            if i != None:\n",
    "                ahg=2.356e5*(float(hi['dist'][i])**2)*10**(float(hi['loghi'][i]))\n",
    "            else:\n",
    "                return 'No HI flux available for '+nam+'.'\n",
    "\n",
    "\n",
    "    agm = 1.33 * ahg     # Total atomic gas mass, includes helium\n",
    "    mg = 0.1 * agm     # Molecular gas mass (assuming no availabe measurements)\n",
    "    gm = agm + mg     # Total mass of gas\n",
    "    return [gm*16.*10**(z-12.),abs(gm*16.*10**(z-12.)*np.log(10))*zerr]"
   ]
  },
  {
   "cell_type": "code",
   "execution_count": 67,
   "metadata": {
    "collapsed": false
   },
   "outputs": [],
   "source": [
    "'''\n",
    "Calculates the amount of oxygen locked in the stars.\n",
    "'''\n",
    "\n",
    "def costar(r,ru,rl,st,et,z,zerru,zerrl):    # Takes sfr, sfr upper and lower uncertainty, time bin, metallicity,\n",
    "                                            # upper and lower uncertainties\n",
    "    Rec = 1./3.     # Recycling Fraction\n",
    "    somd = []     # Scaled oxygen mass density for each time bin\n",
    "    somderu = []\n",
    "    somderl = []\n",
    "    sm = []     # Stellar mass for each time bin\n",
    "    smeru = []\n",
    "    smerl = []\n",
    "    for i in range(len(z)):\n",
    "        if r[i] != 0:\n",
    "            ond = z[i]+zsol     # Oxygen number density in stars\n",
    "            osca = 1.     # Oxygen scale factor (need to find actual value)\n",
    "            somd.append(10**((ond-12)+np.log10((16.)/(0.75*1.0079 + 0.25*4.0026)))*osca)\n",
    "            # Next 2 lines are error propagation\n",
    "            somderu.append((10**((ond-12)+np.log10((16.)/(0.75*1.0079 + 0.25*4.0026)))*np.log(10)*osca)*zerru[i])\n",
    "            somderl.append((10**((ond-12)+np.log10((16.)/(0.75*1.0079 + 0.25*4.0026)))*np.log(10)*osca)*zerrl[i])\n",
    "            sm.append((10**et[i]-10**st[i])*r[i])\n",
    "            # Next 2 lines are error propagation\n",
    "            smeru.append((10**et[i]-10**st[i])*ru[i])\n",
    "            smerl.append((10**et[i]-10**st[i])*rl[i])\n",
    "    om = []     # Oxygen mass in stars for each time bin\n",
    "    omerru = []\n",
    "    omerrl = []\n",
    "    for i in range(len(somd)):\n",
    "        #Next 2 lines are error propagation\n",
    "        om.append((1-Rec)*sm[i]*somd[i])\n",
    "        omerru.append((((1-Rec)*smeru[i]*somd[i])**2.+((1-Rec)*sm[i]*somderu[i])**2.)**1./2.)\n",
    "        omerrl.append((((1-Rec)*smerl[i]*somd[i])**2.+((1-Rec)*sm[i]*somderl[i])**2.)**1./2.)\n",
    "    return sum(sm), sum(smeru), sum(smerl)     # Total oxygen mass in stars"
   ]
  },
  {
   "cell_type": "code",
   "execution_count": 68,
   "metadata": {
    "collapsed": false
   },
   "outputs": [],
   "source": [
    "'''\n",
    "Calculates the total oxygen budget.\n",
    "'''\n",
    "def obud(g,s,t):     # Takes oxygen in gas, stars, and total oxygen formed\n",
    "    ans= (g+s)/t\n",
    "    err=0"
   ]
  },
  {
   "cell_type": "code",
   "execution_count": 69,
   "metadata": {
    "collapsed": false
   },
   "outputs": [],
   "source": [
    "'''\n",
    "Add results to a really ugly file.\n",
    "'''\n",
    "# apparently blank.ljust is a good way of making a really pretty file\n",
    "def maketab(nam,filnam,output):\n",
    "    define(filnam)\n",
    "    gastab('galaxy_list_O.txt')\n",
    "    hitab('metals_opticaldata.txt')\n",
    "    a=cogas(nam)\n",
    "    b=costar(dat['sfr'],dat['sfru'],dat['sfrl'],dat['start'],dat['end'],dat['met'],dat['metu'],dat['metl'])\n",
    "    c1,c2,c3=cogal(totsf,totsfu,totsfl)\n",
    "    if a!='No oxygen abundance available for '+nam+'.' and a!='No HI flux available for '+nam+'.':\n",
    "        if 'results' in os.listdir(\".\"):\n",
    "            thi=open(output,'a')\n",
    "            thi.write('\\n')\n",
    "            thi.write(nam+'\\t'+str(a)+'\\t'+str(b)+'\\t'+str(c1[0])+'\\t'+str(c1[1])+'\\t'+str(c1[2])+'\\t'+str(c2[0])+'\\t'\n",
    "                      +str(c2[1])+'\\t'+str(c2[2])+'\\t'+str(c3[0])+'\\t'+str(c3[1])+'\\t'+str(c3[2]))\n",
    "            thi.close()\n",
    "        else:\n",
    "            thi=open('results','w')\n",
    "            thi.write('Name\\tO_gas\\tO_star\\tTot1\\t+\\t-\\tTot2\\t+\\t-\\tTot3\\t+\\t-')\n",
    "            thi.write('\\n')\n",
    "            thi.write(nam+'\\t'+str(a)+'\\t'+str(b)+'\\t'+str(c1[0])+'\\t'+str(c1[1])+'\\t'+str(c1[2])+'\\t'+str(c2[0])+'\\t'\n",
    "                      +str(c2[1])+'\\t'+str(c2[2])+'\\t'+str(c3[0])+'\\t'+str(c3[1])+'\\t'+str(c3[2]))\n",
    "            thi.close()"
   ]
  },
  {
   "cell_type": "code",
   "execution_count": 70,
   "metadata": {
    "collapsed": false
   },
   "outputs": [
    {
     "ename": "TypeError",
     "evalue": "'int' object has no attribute '__getitem__'",
     "output_type": "error",
     "traceback": [
      "\u001b[1;31m\u001b[0m",
      "\u001b[1;31mTypeError\u001b[0mTraceback (most recent call last)",
      "\u001b[1;32m<ipython-input-70-cf9535fecd06>\u001b[0m in \u001b[0;36m<module>\u001b[1;34m()\u001b[0m\n\u001b[0;32m     28\u001b[0m \u001b[1;33m\u001b[0m\u001b[0m\n\u001b[0;32m     29\u001b[0m \u001b[1;32mif\u001b[0m \u001b[0m__name__\u001b[0m \u001b[1;33m==\u001b[0m \u001b[1;34m'__main__'\u001b[0m\u001b[1;33m:\u001b[0m\u001b[1;33m\u001b[0m\u001b[0m\n\u001b[1;32m---> 30\u001b[1;33m     \u001b[0mmain\u001b[0m\u001b[1;33m(\u001b[0m\u001b[1;33m)\u001b[0m\u001b[1;33m\u001b[0m\u001b[0m\n\u001b[0m",
      "\u001b[1;32m<ipython-input-70-cf9535fecd06>\u001b[0m in \u001b[0;36mmain\u001b[1;34m()\u001b[0m\n\u001b[0;32m     15\u001b[0m         \u001b[0mmist\u001b[0m\u001b[1;33m=\u001b[0m \u001b[1;34m\"False\"\u001b[0m\u001b[1;33m\u001b[0m\u001b[0m\n\u001b[0;32m     16\u001b[0m         \u001b[1;32mfor\u001b[0m \u001b[0mg\u001b[0m \u001b[1;32min\u001b[0m \u001b[0mrange\u001b[0m\u001b[1;33m(\u001b[0m\u001b[0mlen\u001b[0m\u001b[1;33m(\u001b[0m\u001b[0marg\u001b[0m\u001b[1;33m)\u001b[0m\u001b[1;33m)\u001b[0m\u001b[1;33m:\u001b[0m\u001b[1;33m\u001b[0m\u001b[0m\n\u001b[1;32m---> 17\u001b[1;33m             \u001b[1;32mif\u001b[0m \u001b[0mg\u001b[0m\u001b[1;33m[\u001b[0m\u001b[1;33m:\u001b[0m\u001b[1;36m6\u001b[0m\u001b[1;33m]\u001b[0m\u001b[1;33m==\u001b[0m\u001b[1;34m'-mist='\u001b[0m\u001b[1;33m:\u001b[0m\u001b[1;33m\u001b[0m\u001b[0m\n\u001b[0m\u001b[0;32m     18\u001b[0m                 \u001b[0mmist\u001b[0m\u001b[1;33m=\u001b[0m\u001b[0mg\u001b[0m\u001b[1;33m[\u001b[0m\u001b[1;36m6\u001b[0m\u001b[1;33m:\u001b[0m\u001b[1;33m]\u001b[0m\u001b[1;33m\u001b[0m\u001b[0m\n\u001b[0;32m     19\u001b[0m         \u001b[1;32mif\u001b[0m \u001b[0mmist\u001b[0m \u001b[1;33m==\u001b[0m \u001b[1;34m\"True\"\u001b[0m\u001b[1;33m:\u001b[0m\u001b[1;33m\u001b[0m\u001b[0m\n",
      "\u001b[1;31mTypeError\u001b[0m: 'int' object has no attribute '__getitem__'"
     ]
    }
   ],
   "source": [
    "# Proper syntax: python calcmet.py [name of file with data in it]\n",
    "\n",
    "def main():\n",
    "        res=\"sfh_fullres\"\n",
    "        galdir='/work/04316/kmcquinn/wrangler/metals/galaxies/acs'\n",
    "        nam=open('filnam','r')\n",
    "        with open('filnam') as f:\n",
    "                bu=f.read().splitlines()\n",
    "        naml=[]\n",
    "        for i in bu:\n",
    "                naml.append(i.split(\"\\t\"))\n",
    "        dnam=[i[0] for i in naml]\n",
    "        name=[i[1] for i in naml]\n",
    "        \n",
    "        mist= \"False\"\n",
    "        for g in range(len(arg)):\n",
    "            if g[:6]=='-mist=':\n",
    "                mist=g[6:]\n",
    "        if mist == \"True\":\n",
    "            for i in naml:\n",
    "                maketab(i[1],galdir+'/'+i[0]+'/metals_proc/'+res+'MIST/out.final','mistres_all')\n",
    "                maketab(i[1],galdir+'/'+i[0]+'/metals_proc/'+res+'MIST/out.hybrid.final','mistres_nosys')\n",
    "        if mist == \"False\":\n",
    "            for i in naml:\n",
    "                maketab(i[1],galdir+'/'+i[0]+'/metals_proc/'+res+'/out.final','parsecres_all')\n",
    "                maketab(i[1],galdir+'/'+i[0]+'/metals_proc/'+res+'/out.hybrid.final','parsecres_nosys')\n",
    "    \n",
    "\n",
    "if __name__ == '__main__':\n",
    "    main()"
   ]
  },
  {
   "cell_type": "code",
   "execution_count": null,
   "metadata": {
    "collapsed": true
   },
   "outputs": [],
   "source": []
  }
 ],
 "metadata": {
  "kernelspec": {
   "display_name": "Python [Root]",
   "language": "python",
   "name": "Python [Root]"
  },
  "language_info": {
   "codemirror_mode": {
    "name": "ipython",
    "version": 2
   },
   "file_extension": ".py",
   "mimetype": "text/x-python",
   "name": "python",
   "nbconvert_exporter": "python",
   "pygments_lexer": "ipython2",
   "version": "2.7.12"
  }
 },
 "nbformat": 4,
 "nbformat_minor": 0
}
