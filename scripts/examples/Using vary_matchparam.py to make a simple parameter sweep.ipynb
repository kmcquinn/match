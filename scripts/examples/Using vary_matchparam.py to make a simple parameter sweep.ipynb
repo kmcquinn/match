{
 "cells": [
  {
   "cell_type": "markdown",
   "metadata": {},
   "source": [
    "# Vary parameters for a calcsfh call\n",
    "\n",
    "This example will show how to use scripts.vary_matchparam on example data to run a simple parameter sweep.\n",
    "\n",
    "The code was written to interate what <code>calcsfh</code> doesn't. I.e., dmod, Av are varied according to the calcsfh parameter file. This code takes over if you wanted to vary IMF, dAv, BF, or model subdirectory by writing many calcsfh calls to a bash script."
   ]
  },
  {
   "cell_type": "markdown",
   "metadata": {},
   "source": [
    "## Prepare the calcsfh parameter file\n",
    "See the MATCH README file for more information. The dmod, Av, CMD limits, and age bins should all be constant for the template.\n",
    "\n",
    "It's better to leave off the IMF value in the template paramter file, that is, the first line should have only 6 numbers (<code>dmod0, dmod1, ddmod, Av0, Av1, dAv</code>). \n",
    "<code>vary_matchparam</code>, will insert the powerlaw slope if needed, but it [currenty] wont delete if if -kroupa or -chabrier are called as flags.\n",
    "\n",
    "Here's our example template:"
   ]
  },
  {
   "cell_type": "code",
   "execution_count": 11,
   "metadata": {
    "collapsed": false
   },
   "outputs": [
    {
     "name": "stdout",
     "output_type": "stream",
     "text": [
      " 18.3 18.6 0.05 0.05 0.25 0.05\r\n",
      "-1.55 -0.45 0.07\r\n",
      "0.0 0.000001 0.000001\r\n",
      "1\r\n",
      "0.10 0.05 5 -0.2 1.7 WFC555W,WFC814W\r\n",
      "17.6 27.0 WFC555W\r\n",
      "16.5 24.1 WFC814W\r\n",
      "0 0\r\n",
      "8\r\n",
      "     9.25 9.30\r\n",
      "     9.30 9.35\r\n",
      "     9.35 9.40\r\n",
      "     9.40 9.45\r\n",
      "     9.45 9.50\r\n",
      "     9.50 9.55\r\n",
      "     9.55 9.60\r\n",
      "     9.60 9.65\r\n"
     ]
    }
   ],
   "source": [
    "! cat 9891_NGC1978_F555W_F814W.gst.param"
   ]
  },
  {
   "cell_type": "markdown",
   "metadata": {},
   "source": [
    "The second line is <code>logZ0, logZ1</code> and <code>dlogZ</code>. If you are running <code>calcsfh</code> without the <code>-ssp</code> flag, see the README file for other options for this line. \n",
    "\n",
    "Notes:\n",
    "* <code>logZ = log10(Z/Zsun)</code>; and <code>Zsun</code> is defined in the<code>Models/makemod.cpp</code> file.\n",
    "* <code>dlogZ</code> is the dispersion in Z of the model SSPs\n",
    "* The logZ0, logZ1 and the ages all need to be within the boundaries of the models. If the terminal output of the calcsfh run has an error <code>\"Models need to be made for ... \"</code> check that the corresponding file exists as <code>Models/data/mod*_Age0_Age1_logZ+4_dlogZ</code>.\n"
   ]
  },
  {
   "cell_type": "markdown",
   "metadata": {},
   "source": [
    "## vary_matchparam\n",
    "\n",
    "Typing <code>python -m match.scripts.vary_matchparam -h<code> into the command line gives the options:"
   ]
  },
  {
   "cell_type": "code",
   "execution_count": 39,
   "metadata": {
    "collapsed": false
   },
   "outputs": [
    {
     "name": "stdout",
     "output_type": "stream",
     "text": [
      "/Users/rosenfield/anaconda/lib/python2.7/site-packages/matplotlib/__init__.py:872: UserWarning: axes.color_cycle is deprecated and replaced with axes.prop_cycle; please use the latter.\n",
      "  warnings.warn(self.msg_depr % (key, alt_key))\n",
      "usage: vary_matchparam.py [-h] [-n NPROC] [-o OUTFILE] [-i IMF] [-b BF]\n",
      "                          [-a DAV] [-s SUB] [-e EXTRA] [-d DESTINATION] [-c]\n",
      "                          param_file phot fake\n",
      "\n",
      "vary BF, IMF, and dAv\n",
      "\n",
      "positional arguments:\n",
      "  param_file            template parameter file\n",
      "  phot                  match photometry file\n",
      "  fake                  match ast file\n",
      "\n",
      "optional arguments:\n",
      "  -h, --help            show this help message and exit\n",
      "  -n NPROC, --nproc NPROC\n",
      "                        number of simultaneous calls to calcsfh\n",
      "  -o OUTFILE, --outfile OUTFILE\n",
      "                        file to save the script\n",
      "  -i IMF, --imf IMF     IMF min, max, dIMF\n",
      "  -b BF, --bf BF        BF min, max, dBF\n",
      "  -a DAV, --dav DAV     dAv min, max, ddAv\n",
      "  -s SUB, --sub SUB     track sub directory\n",
      "  -e EXTRA, --extra EXTRA\n",
      "                        add an extra string to output filenames.\n",
      "  -d DESTINATION, --destination DESTINATION\n",
      "                        destination directory for calcsfh output\n",
      "  -c, --check           check if calcsfh output file exists, useful for\n",
      "                        completeing interrupted runs.\n"
     ]
    }
   ],
   "source": [
    "! python -m match.scripts.vary_matchparam -h"
   ]
  },
  {
   "cell_type": "markdown",
   "metadata": {},
   "source": [
    "### Example Usage:\n",
    "The following will write 12 calcsfh calls at a time to <code>calcsfh_ssp.sh</code> and will vary the binary fraction from 0-0.55 at 0.1 incriments, the differential extinction from 0-0.55 at 0.1 incriments, and keep the IMF as kroupa."
   ]
  },
  {
   "cell_type": "code",
   "execution_count": 40,
   "metadata": {
    "collapsed": false
   },
   "outputs": [
    {
     "name": "stdout",
     "output_type": "stream",
     "text": [
      "/Users/rosenfield/anaconda/lib/python2.7/site-packages/matplotlib/__init__.py:872: UserWarning: axes.color_cycle is deprecated and replaced with axes.prop_cycle; please use the latter.\n",
      "  warnings.warn(self.msg_depr % (key, alt_key))\n",
      "appended calcsfh_ssp.sh\n"
     ]
    }
   ],
   "source": [
    "! python -m match.scripts.vary_matchparam -n 12 -i kroupa -b 0,.55,0.1 -a 0,0.55,0.1 9891_NGC1978_F555W_F814W.gst.param 9891_NGC1978_F555W_F814W.match 9891_NGC1978_F555W_F814W.matchfake"
   ]
  },
  {
   "cell_type": "markdown",
   "metadata": {},
   "source": [
    "Since <code>IMF</code> and <code>BF</code> are written in the parameter file, a new one parameter file is written for each combination. Note the original parameter file was not changed."
   ]
  },
  {
   "cell_type": "code",
   "execution_count": 17,
   "metadata": {
    "collapsed": false
   },
   "outputs": [
    {
     "name": "stdout",
     "output_type": "stream",
     "text": [
      "9891_NGC1978_F555W_F814W.gst.param\r\n",
      "9891_NGC1978_F555W_F814W.gst_imfkroupa_bf0.0.param\r\n",
      "9891_NGC1978_F555W_F814W.gst_imfkroupa_bf0.1.param\r\n",
      "9891_NGC1978_F555W_F814W.gst_imfkroupa_bf0.2.param\r\n",
      "9891_NGC1978_F555W_F814W.gst_imfkroupa_bf0.3.param\r\n",
      "9891_NGC1978_F555W_F814W.gst_imfkroupa_bf0.4.param\r\n",
      "9891_NGC1978_F555W_F814W.gst_imfkroupa_bf0.5.param\r\n"
     ]
    }
   ],
   "source": [
    "ls *param"
   ]
  },
  {
   "cell_type": "markdown",
   "metadata": {},
   "source": [
    "However, <code>dAv</code>, <code>sub</code> are not written to the calcsfh output files. So they are added to the output file names."
   ]
  },
  {
   "cell_type": "code",
   "execution_count": 41,
   "metadata": {
    "collapsed": false
   },
   "outputs": [
    {
     "name": "stdout",
     "output_type": "stream",
     "text": [
      "/Volumes/raqiya/match2.6/bin/calcsfh 9891_NGC1978_F555W_F814W.gst_imfkroupa_bf0.0.param 9891_NGC1978_F555W_F814W.match 9891_NGC1978_F555W_F814W.matchfake 9891_NGC1978_F555W_F814W.gst_imfkroupa_bf0.0_dav0.0_ssp.out -PARSEC -dT=0.001 -dZ=0.01 -ssp -dAvy=0.0 -dAv=0.00 -kroupa > 9891_NGC1978_F555W_F814W.gst_imfkroupa_bf0.0_dav0.0_ssp.scrn &\r\n",
      "/Volumes/raqiya/match2.6/bin/calcsfh 9891_NGC1978_F555W_F814W.gst_imfkroupa_bf0.1.param 9891_NGC1978_F555W_F814W.match 9891_NGC1978_F555W_F814W.matchfake 9891_NGC1978_F555W_F814W.gst_imfkroupa_bf0.1_dav0.0_ssp.out -PARSEC -dT=0.001 -dZ=0.01 -ssp -dAvy=0.0 -dAv=0.00 -kroupa > 9891_NGC1978_F555W_F814W.gst_imfkroupa_bf0.1_dav0.0_ssp.scrn &\r\n",
      "/Volumes/raqiya/match2.6/bin/calcsfh 9891_NGC1978_F555W_F814W.gst_imfkroupa_bf0.2.param 9891_NGC1978_F555W_F814W.match 9891_NGC1978_F555W_F814W.matchfake 9891_NGC1978_F555W_F814W.gst_imfkroupa_bf0.2_dav0.0_ssp.out -PARSEC -dT=0.001 -dZ=0.01 -ssp -dAvy=0.0 -dAv=0.00 -kroupa > 9891_NGC1978_F555W_F814W.gst_imfkroupa_bf0.2_dav0.0_ssp.scrn &\r\n",
      "/Volumes/raqiya/match2.6/bin/calcsfh 9891_NGC1978_F555W_F814W.gst_imfkroupa_bf0.3.param 9891_NGC1978_F555W_F814W.match 9891_NGC1978_F555W_F814W.matchfake 9891_NGC1978_F555W_F814W.gst_imfkroupa_bf0.3_dav0.0_ssp.out -PARSEC -dT=0.001 -dZ=0.01 -ssp -dAvy=0.0 -dAv=0.00 -kroupa > 9891_NGC1978_F555W_F814W.gst_imfkroupa_bf0.3_dav0.0_ssp.scrn &\r\n",
      "/Volumes/raqiya/match2.6/bin/calcsfh 9891_NGC1978_F555W_F814W.gst_imfkroupa_bf0.4.param 9891_NGC1978_F555W_F814W.match 9891_NGC1978_F555W_F814W.matchfake 9891_NGC1978_F555W_F814W.gst_imfkroupa_bf0.4_dav0.0_ssp.out -PARSEC -dT=0.001 -dZ=0.01 -ssp -dAvy=0.0 -dAv=0.00 -kroupa > 9891_NGC1978_F555W_F814W.gst_imfkroupa_bf0.4_dav0.0_ssp.scrn &\r\n",
      "/Volumes/raqiya/match2.6/bin/calcsfh 9891_NGC1978_F555W_F814W.gst_imfkroupa_bf0.5.param 9891_NGC1978_F555W_F814W.match 9891_NGC1978_F555W_F814W.matchfake 9891_NGC1978_F555W_F814W.gst_imfkroupa_bf0.5_dav0.0_ssp.out -PARSEC -dT=0.001 -dZ=0.01 -ssp -dAvy=0.0 -dAv=0.00 -kroupa > 9891_NGC1978_F555W_F814W.gst_imfkroupa_bf0.5_dav0.0_ssp.scrn &\r\n",
      "/Volumes/raqiya/match2.6/bin/calcsfh 9891_NGC1978_F555W_F814W.gst_imfkroupa_bf0.0.param 9891_NGC1978_F555W_F814W.match 9891_NGC1978_F555W_F814W.matchfake 9891_NGC1978_F555W_F814W.gst_imfkroupa_bf0.0_dav0.1_ssp.out -PARSEC -dT=0.001 -dZ=0.01 -ssp -dAvy=0.0 -dAv=0.10 -kroupa > 9891_NGC1978_F555W_F814W.gst_imfkroupa_bf0.0_dav0.1_ssp.scrn &\r\n",
      "/Volumes/raqiya/match2.6/bin/calcsfh 9891_NGC1978_F555W_F814W.gst_imfkroupa_bf0.1.param 9891_NGC1978_F555W_F814W.match 9891_NGC1978_F555W_F814W.matchfake 9891_NGC1978_F555W_F814W.gst_imfkroupa_bf0.1_dav0.1_ssp.out -PARSEC -dT=0.001 -dZ=0.01 -ssp -dAvy=0.0 -dAv=0.10 -kroupa > 9891_NGC1978_F555W_F814W.gst_imfkroupa_bf0.1_dav0.1_ssp.scrn &\r\n",
      "/Volumes/raqiya/match2.6/bin/calcsfh 9891_NGC1978_F555W_F814W.gst_imfkroupa_bf0.2.param 9891_NGC1978_F555W_F814W.match 9891_NGC1978_F555W_F814W.matchfake 9891_NGC1978_F555W_F814W.gst_imfkroupa_bf0.2_dav0.1_ssp.out -PARSEC -dT=0.001 -dZ=0.01 -ssp -dAvy=0.0 -dAv=0.10 -kroupa > 9891_NGC1978_F555W_F814W.gst_imfkroupa_bf0.2_dav0.1_ssp.scrn &\r\n",
      "/Volumes/raqiya/match2.6/bin/calcsfh 9891_NGC1978_F555W_F814W.gst_imfkroupa_bf0.3.param 9891_NGC1978_F555W_F814W.match 9891_NGC1978_F555W_F814W.matchfake 9891_NGC1978_F555W_F814W.gst_imfkroupa_bf0.3_dav0.1_ssp.out -PARSEC -dT=0.001 -dZ=0.01 -ssp -dAvy=0.0 -dAv=0.10 -kroupa > 9891_NGC1978_F555W_F814W.gst_imfkroupa_bf0.3_dav0.1_ssp.scrn &\r\n"
     ]
    }
   ],
   "source": [
    "! head calcsfh_ssp.sh"
   ]
  },
  {
   "cell_type": "markdown",
   "metadata": {},
   "source": [
    "Note: \n",
    "* calcsfh flags and common file extensions are set in <code>config.py</code>\n",
    "* The <code>wait</code> will pause the script until the above commands are completed."
   ]
  },
  {
   "cell_type": "markdown",
   "metadata": {},
   "source": [
    "## Vary the IMF as well as run with Kroupa.\n",
    "\n",
    "Since we already made the <code>calcsfh_ssp.sh</code> file, we can simply append to it. <code>vary_matchparam</code> will append to calcsfh_ssp.sh if it exists in the directory."
   ]
  },
  {
   "cell_type": "code",
   "execution_count": 42,
   "metadata": {
    "collapsed": false
   },
   "outputs": [
    {
     "name": "stdout",
     "output_type": "stream",
     "text": [
      "/Users/rosenfield/anaconda/lib/python2.7/site-packages/matplotlib/__init__.py:872: UserWarning: axes.color_cycle is deprecated and replaced with axes.prop_cycle; please use the latter.\n",
      "  warnings.warn(self.msg_depr % (key, alt_key))\n",
      "appended calcsfh_ssp.sh\n"
     ]
    }
   ],
   "source": [
    "! python -m match.scripts.vary_matchparam -n 12 -b 0,.55,0.1 -a 0,0.55,0.1 -i 0.5,1.5,0.25 9891_NGC1978_F555W_F814W.gst.param 9891_NGC1978_F555W_F814W.match 9891_NGC1978_F555W_F814W.matchfake"
   ]
  },
  {
   "cell_type": "code",
   "execution_count": 36,
   "metadata": {
    "collapsed": false
   },
   "outputs": [
    {
     "name": "stdout",
     "output_type": "stream",
     "text": [
      "9891_NGC1978_F555W_F814W.gst.param\r\n",
      "9891_NGC1978_F555W_F814W.gst_imf0.5_bf0.0.param\r\n",
      "9891_NGC1978_F555W_F814W.gst_imf0.5_bf0.1.param\r\n",
      "9891_NGC1978_F555W_F814W.gst_imf0.5_bf0.2.param\r\n",
      "9891_NGC1978_F555W_F814W.gst_imf0.5_bf0.3.param\r\n",
      "9891_NGC1978_F555W_F814W.gst_imf0.5_bf0.4.param\r\n",
      "9891_NGC1978_F555W_F814W.gst_imf0.5_bf0.5.param\r\n",
      "9891_NGC1978_F555W_F814W.gst_imf0.75_bf0.0.param\r\n",
      "9891_NGC1978_F555W_F814W.gst_imf0.75_bf0.1.param\r\n",
      "9891_NGC1978_F555W_F814W.gst_imf0.75_bf0.2.param\r\n",
      "9891_NGC1978_F555W_F814W.gst_imf0.75_bf0.3.param\r\n",
      "9891_NGC1978_F555W_F814W.gst_imf0.75_bf0.4.param\r\n",
      "9891_NGC1978_F555W_F814W.gst_imf0.75_bf0.5.param\r\n",
      "9891_NGC1978_F555W_F814W.gst_imf1.0_bf0.0.param\r\n",
      "9891_NGC1978_F555W_F814W.gst_imf1.0_bf0.1.param\r\n",
      "9891_NGC1978_F555W_F814W.gst_imf1.0_bf0.2.param\r\n",
      "9891_NGC1978_F555W_F814W.gst_imf1.0_bf0.3.param\r\n",
      "9891_NGC1978_F555W_F814W.gst_imf1.0_bf0.4.param\r\n",
      "9891_NGC1978_F555W_F814W.gst_imf1.0_bf0.5.param\r\n",
      "9891_NGC1978_F555W_F814W.gst_imf1.25_bf0.0.param\r\n",
      "9891_NGC1978_F555W_F814W.gst_imf1.25_bf0.1.param\r\n",
      "9891_NGC1978_F555W_F814W.gst_imf1.25_bf0.2.param\r\n",
      "9891_NGC1978_F555W_F814W.gst_imf1.25_bf0.3.param\r\n",
      "9891_NGC1978_F555W_F814W.gst_imf1.25_bf0.4.param\r\n",
      "9891_NGC1978_F555W_F814W.gst_imf1.25_bf0.5.param\r\n",
      "9891_NGC1978_F555W_F814W.gst_imfkroupa_bf0.0.param\r\n",
      "9891_NGC1978_F555W_F814W.gst_imfkroupa_bf0.1.param\r\n",
      "9891_NGC1978_F555W_F814W.gst_imfkroupa_bf0.2.param\r\n",
      "9891_NGC1978_F555W_F814W.gst_imfkroupa_bf0.3.param\r\n",
      "9891_NGC1978_F555W_F814W.gst_imfkroupa_bf0.4.param\r\n",
      "9891_NGC1978_F555W_F814W.gst_imfkroupa_bf0.5.param\r\n"
     ]
    }
   ],
   "source": [
    "ls *param"
   ]
  },
  {
   "cell_type": "markdown",
   "metadata": {},
   "source": [
    "Notice that even though the template parameter file had no IMF power law, vary_matchparam will insert it:"
   ]
  },
  {
   "cell_type": "code",
   "execution_count": 44,
   "metadata": {
    "collapsed": false
   },
   "outputs": [
    {
     "name": "stdout",
     "output_type": "stream",
     "text": [
      "==> 9891_NGC1978_F555W_F814W.gst_imf0.5_bf0.0.param <==\r\n",
      "0.5 18.3 18.6 0.05 0.05 0.25 0.05\r\n",
      "\r\n",
      "==> 9891_NGC1978_F555W_F814W.gst_imf0.5_bf0.1.param <==\r\n",
      "0.50 18.3 18.6 0.05 0.05 0.25 0.05\r\n",
      "\r\n",
      "==> 9891_NGC1978_F555W_F814W.gst_imf0.5_bf0.2.param <==\r\n",
      "0.50 18.3 18.6 0.05 0.05 0.25 0.05\r\n",
      "\r\n",
      "==> 9891_NGC1978_F555W_F814W.gst_imf0.5_bf0.3.param <==\r\n",
      "0.50 18.3 18.6 0.05 0.05 0.25 0.05\r\n",
      "\r\n",
      "==> 9891_NGC1978_F555W_F814W.gst_imf0.5_bf0.4.param <==\r\n",
      "0.50 18.3 18.6 0.05 0.05 0.25 0.05\r\n",
      "\r\n",
      "==> 9891_NGC1978_F555W_F814W.gst_imf0.5_bf0.5.param <==\r\n",
      "0.50 18.3 18.6 0.05 0.05 0.25 0.05\r\n",
      "\r\n",
      "==> 9891_NGC1978_F555W_F814W.gst_imf0.75_bf0.0.param <==\r\n",
      "0.75 18.3 18.6 0.05 0.05 0.25 0.05\r\n",
      "\r\n",
      "==> 9891_NGC1978_F555W_F814W.gst_imf0.75_bf0.1.param <==\r\n",
      "0.75 18.3 18.6 0.05 0.05 0.25 0.05\r\n",
      "\r\n",
      "==> 9891_NGC1978_F555W_F814W.gst_imf0.75_bf0.2.param <==\r\n",
      "0.75 18.3 18.6 0.05 0.05 0.25 0.05\r\n",
      "\r\n",
      "==> 9891_NGC1978_F555W_F814W.gst_imf0.75_bf0.3.param <==\r\n",
      "0.75 18.3 18.6 0.05 0.05 0.25 0.05\r\n",
      "\r\n",
      "==> 9891_NGC1978_F555W_F814W.gst_imf0.75_bf0.4.param <==\r\n",
      "0.75 18.3 18.6 0.05 0.05 0.25 0.05\r\n",
      "\r\n",
      "==> 9891_NGC1978_F555W_F814W.gst_imf0.75_bf0.5.param <==\r\n",
      "0.75 18.3 18.6 0.05 0.05 0.25 0.05\r\n",
      "\r\n",
      "==> 9891_NGC1978_F555W_F814W.gst_imf1.0_bf0.0.param <==\r\n",
      "1.00 18.3 18.6 0.05 0.05 0.25 0.05\r\n",
      "\r\n",
      "==> 9891_NGC1978_F555W_F814W.gst_imf1.0_bf0.1.param <==\r\n",
      "1.00 18.3 18.6 0.05 0.05 0.25 0.05\r\n",
      "\r\n",
      "==> 9891_NGC1978_F555W_F814W.gst_imf1.0_bf0.2.param <==\r\n",
      "1.00 18.3 18.6 0.05 0.05 0.25 0.05\r\n",
      "\r\n",
      "==> 9891_NGC1978_F555W_F814W.gst_imf1.0_bf0.3.param <==\r\n",
      "1.00 18.3 18.6 0.05 0.05 0.25 0.05\r\n",
      "\r\n",
      "==> 9891_NGC1978_F555W_F814W.gst_imf1.0_bf0.4.param <==\r\n",
      "1.00 18.3 18.6 0.05 0.05 0.25 0.05\r\n",
      "\r\n",
      "==> 9891_NGC1978_F555W_F814W.gst_imf1.0_bf0.5.param <==\r\n",
      "1.00 18.3 18.6 0.05 0.05 0.25 0.05\r\n",
      "\r\n",
      "==> 9891_NGC1978_F555W_F814W.gst_imf1.25_bf0.0.param <==\r\n",
      "1.25 18.3 18.6 0.05 0.05 0.25 0.05\r\n",
      "\r\n",
      "==> 9891_NGC1978_F555W_F814W.gst_imf1.25_bf0.1.param <==\r\n",
      "1.25 18.3 18.6 0.05 0.05 0.25 0.05\r\n",
      "\r\n",
      "==> 9891_NGC1978_F555W_F814W.gst_imf1.25_bf0.2.param <==\r\n",
      "1.25 18.3 18.6 0.05 0.05 0.25 0.05\r\n",
      "\r\n",
      "==> 9891_NGC1978_F555W_F814W.gst_imf1.25_bf0.3.param <==\r\n",
      "1.25 18.3 18.6 0.05 0.05 0.25 0.05\r\n",
      "\r\n",
      "==> 9891_NGC1978_F555W_F814W.gst_imf1.25_bf0.4.param <==\r\n",
      "1.25 18.3 18.6 0.05 0.05 0.25 0.05\r\n",
      "\r\n",
      "==> 9891_NGC1978_F555W_F814W.gst_imf1.25_bf0.5.param <==\r\n",
      "1.25 18.3 18.6 0.05 0.05 0.25 0.05\r\n",
      "\r\n",
      "==> 9891_NGC1978_F555W_F814W.gst_imfkroupa_bf0.0.param <==\r\n",
      "18.3 18.6 0.05 0.05 0.25 0.05\r\n",
      "\r\n",
      "==> 9891_NGC1978_F555W_F814W.gst_imfkroupa_bf0.1.param <==\r\n",
      "18.3 18.6 0.05 0.05 0.25 0.05\r\n",
      "\r\n",
      "==> 9891_NGC1978_F555W_F814W.gst_imfkroupa_bf0.2.param <==\r\n",
      "18.3 18.6 0.05 0.05 0.25 0.05\r\n",
      "\r\n",
      "==> 9891_NGC1978_F555W_F814W.gst_imfkroupa_bf0.3.param <==\r\n",
      "18.3 18.6 0.05 0.05 0.25 0.05\r\n",
      "\r\n",
      "==> 9891_NGC1978_F555W_F814W.gst_imfkroupa_bf0.4.param <==\r\n",
      "18.3 18.6 0.05 0.05 0.25 0.05\r\n",
      "\r\n",
      "==> 9891_NGC1978_F555W_F814W.gst_imfkroupa_bf0.5.param <==\r\n",
      "18.3 18.6 0.05 0.05 0.25 0.05\r\n"
     ]
    }
   ],
   "source": [
    "! head -1 9891_NGC1978_F555W_F814W.gst_imf*param"
   ]
  },
  {
   "cell_type": "markdown",
   "metadata": {},
   "source": [
    "Notice those the IMF power law calls were appended to calcsfh_ssh.sh"
   ]
  },
  {
   "cell_type": "code",
   "execution_count": 35,
   "metadata": {
    "collapsed": false
   },
   "outputs": [
    {
     "name": "stdout",
     "output_type": "stream",
     "text": [
      "/Volumes/raqiya/match2.6/bin/calcsfh 9891_NGC1978_F555W_F814W.gst_imf1.0_bf0.3.param 9891_NGC1978_F555W_F814W.match 9891_NGC1978_F555W_F814W.matchfake 9891_NGC1978_F555W_F814W.gst_imf1.0_bf0.3_dav0.5_ssp.out -PARSEC -dT=0.001 -dZ=0.01 -ssp -dAvy=0.0 -dAv=0.50 > 9891_NGC1978_F555W_F814W.gst_imf1.0_bf0.3_dav0.5_ssp.scrn &\r\n",
      "/Volumes/raqiya/match2.6/bin/calcsfh 9891_NGC1978_F555W_F814W.gst_imf1.0_bf0.4.param 9891_NGC1978_F555W_F814W.match 9891_NGC1978_F555W_F814W.matchfake 9891_NGC1978_F555W_F814W.gst_imf1.0_bf0.4_dav0.5_ssp.out -PARSEC -dT=0.001 -dZ=0.01 -ssp -dAvy=0.0 -dAv=0.50 > 9891_NGC1978_F555W_F814W.gst_imf1.0_bf0.4_dav0.5_ssp.scrn &\r\n",
      "/Volumes/raqiya/match2.6/bin/calcsfh 9891_NGC1978_F555W_F814W.gst_imf1.0_bf0.5.param 9891_NGC1978_F555W_F814W.match 9891_NGC1978_F555W_F814W.matchfake 9891_NGC1978_F555W_F814W.gst_imf1.0_bf0.5_dav0.5_ssp.out -PARSEC -dT=0.001 -dZ=0.01 -ssp -dAvy=0.0 -dAv=0.50 > 9891_NGC1978_F555W_F814W.gst_imf1.0_bf0.5_dav0.5_ssp.scrn &\r\n",
      "/Volumes/raqiya/match2.6/bin/calcsfh 9891_NGC1978_F555W_F814W.gst_imf1.25_bf0.0.param 9891_NGC1978_F555W_F814W.match 9891_NGC1978_F555W_F814W.matchfake 9891_NGC1978_F555W_F814W.gst_imf1.25_bf0.0_dav0.5_ssp.out -PARSEC -dT=0.001 -dZ=0.01 -ssp -dAvy=0.0 -dAv=0.50 > 9891_NGC1978_F555W_F814W.gst_imf1.25_bf0.0_dav0.5_ssp.scrn &\r\n",
      "/Volumes/raqiya/match2.6/bin/calcsfh 9891_NGC1978_F555W_F814W.gst_imf1.25_bf0.1.param 9891_NGC1978_F555W_F814W.match 9891_NGC1978_F555W_F814W.matchfake 9891_NGC1978_F555W_F814W.gst_imf1.25_bf0.1_dav0.5_ssp.out -PARSEC -dT=0.001 -dZ=0.01 -ssp -dAvy=0.0 -dAv=0.50 > 9891_NGC1978_F555W_F814W.gst_imf1.25_bf0.1_dav0.5_ssp.scrn &\r\n",
      "/Volumes/raqiya/match2.6/bin/calcsfh 9891_NGC1978_F555W_F814W.gst_imf1.25_bf0.2.param 9891_NGC1978_F555W_F814W.match 9891_NGC1978_F555W_F814W.matchfake 9891_NGC1978_F555W_F814W.gst_imf1.25_bf0.2_dav0.5_ssp.out -PARSEC -dT=0.001 -dZ=0.01 -ssp -dAvy=0.0 -dAv=0.50 > 9891_NGC1978_F555W_F814W.gst_imf1.25_bf0.2_dav0.5_ssp.scrn &\r\n",
      "/Volumes/raqiya/match2.6/bin/calcsfh 9891_NGC1978_F555W_F814W.gst_imf1.25_bf0.3.param 9891_NGC1978_F555W_F814W.match 9891_NGC1978_F555W_F814W.matchfake 9891_NGC1978_F555W_F814W.gst_imf1.25_bf0.3_dav0.5_ssp.out -PARSEC -dT=0.001 -dZ=0.01 -ssp -dAvy=0.0 -dAv=0.50 > 9891_NGC1978_F555W_F814W.gst_imf1.25_bf0.3_dav0.5_ssp.scrn &\r\n",
      "/Volumes/raqiya/match2.6/bin/calcsfh 9891_NGC1978_F555W_F814W.gst_imf1.25_bf0.4.param 9891_NGC1978_F555W_F814W.match 9891_NGC1978_F555W_F814W.matchfake 9891_NGC1978_F555W_F814W.gst_imf1.25_bf0.4_dav0.5_ssp.out -PARSEC -dT=0.001 -dZ=0.01 -ssp -dAvy=0.0 -dAv=0.50 > 9891_NGC1978_F555W_F814W.gst_imf1.25_bf0.4_dav0.5_ssp.scrn &\r\n",
      "/Volumes/raqiya/match2.6/bin/calcsfh 9891_NGC1978_F555W_F814W.gst_imf1.25_bf0.5.param 9891_NGC1978_F555W_F814W.match 9891_NGC1978_F555W_F814W.matchfake 9891_NGC1978_F555W_F814W.gst_imf1.25_bf0.5_dav0.5_ssp.out -PARSEC -dT=0.001 -dZ=0.01 -ssp -dAvy=0.0 -dAv=0.50 > 9891_NGC1978_F555W_F814W.gst_imf1.25_bf0.5_dav0.5_ssp.scrn &\r\n",
      "wait \r\n"
     ]
    }
   ],
   "source": [
    "! tail calcsfh_ssp.sh"
   ]
  },
  {
   "cell_type": "markdown",
   "metadata": {},
   "source": [
    "## Running the code\n",
    "Finally, run calcsfh_ssp.sh:\n",
    "\n",
    "    bash calcsfh_ssp.sh"
   ]
  },
  {
   "cell_type": "code",
   "execution_count": null,
   "metadata": {
    "collapsed": true
   },
   "outputs": [],
   "source": []
  }
 ],
 "metadata": {
  "kernelspec": {
   "display_name": "Python 2",
   "language": "python",
   "name": "python2"
  },
  "language_info": {
   "codemirror_mode": {
    "name": "ipython",
    "version": 2
   },
   "file_extension": ".py",
   "mimetype": "text/x-python",
   "name": "python",
   "nbconvert_exporter": "python",
   "pygments_lexer": "ipython2",
   "version": "2.7.11"
  }
 },
 "nbformat": 4,
 "nbformat_minor": 0
}
