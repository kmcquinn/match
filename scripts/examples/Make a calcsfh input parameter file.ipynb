{
 "cells": [
  {
   "cell_type": "markdown",
   "metadata": {},
   "source": [
    "# Make CALCSFH input parameter file\n",
    "This notebook will go through how to use <code>calcsfh_input_parameter</code> to programatically write calcsfh input parameter files."
   ]
  },
  {
   "cell_type": "code",
   "execution_count": 2,
   "metadata": {
    "collapsed": false
   },
   "outputs": [
    {
     "name": "stderr",
     "output_type": "stream",
     "text": [
      "/Users/rosenfield/anaconda/lib/python2.7/site-packages/IPython/kernel/__init__.py:13: ShimWarning: The `IPython.kernel` package has been deprecated. You should import from ipykernel or jupyter_client instead.\n",
      "  \"You should import from ipykernel or jupyter_client instead.\", ShimWarning)\n"
     ]
    }
   ],
   "source": [
    "from match.scripts.fileio import calcsfh_input_parameter"
   ]
  },
  {
   "cell_type": "markdown",
   "metadata": {},
   "source": [
    "The default dictionary for calcsfh is accessible via fileio.calcsfh_dict() and is stored in <code>templates/calcsfh_input_parameter.json</code>\n",
    "\n",
    "To use all the default values (it won't actually work when running <code>calcsfh</code> (Notice the CMD limits are all -99,99 and the filters as stupidly called filter1, filter2.):"
   ]
  },
  {
   "cell_type": "code",
   "execution_count": 3,
   "metadata": {
    "collapsed": false
   },
   "outputs": [
    {
     "name": "stdout",
     "output_type": "stream",
     "text": [
      "1.35 10.000 10.000 0.050 0.000 0.000 0.050\n",
      "-2.30 0.10 0.10\n",
      "0.35 0.000001 0.000001\n",
      " 1\n",
      "0.10 0.05 5 -99.00 99.00 filter1,filter2\n",
      "-99.00 99.00 filter1\n",
      "-99.00 99.00 filter2\n",
      "0  0  \n",
      "71\n",
      "   6.60 6.65\n",
      "   6.65 6.70\n",
      "   6.70 6.75\n",
      "   6.75 6.80\n",
      "   6.80 6.85\n",
      "   6.85 6.90\n",
      "   6.90 6.95\n",
      "   6.95 7.00\n",
      "   7.00 7.05\n",
      "   7.05 7.10\n",
      "   7.10 7.15\n",
      "   7.15 7.20\n",
      "   7.20 7.25\n",
      "   7.25 7.30\n",
      "   7.30 7.35\n",
      "   7.35 7.40\n",
      "   7.40 7.45\n",
      "   7.45 7.50\n",
      "   7.50 7.55\n",
      "   7.55 7.60\n",
      "   7.60 7.65\n",
      "   7.65 7.70\n",
      "   7.70 7.75\n",
      "   7.75 7.80\n",
      "   7.80 7.85\n",
      "   7.85 7.90\n",
      "   7.90 7.95\n",
      "   7.95 8.00\n",
      "   8.00 8.05\n",
      "   8.05 8.10\n",
      "   8.10 8.15\n",
      "   8.15 8.20\n",
      "   8.20 8.25\n",
      "   8.25 8.30\n",
      "   8.30 8.35\n",
      "   8.35 8.40\n",
      "   8.40 8.45\n",
      "   8.45 8.50\n",
      "   8.50 8.55\n",
      "   8.55 8.60\n",
      "   8.60 8.65\n",
      "   8.65 8.70\n",
      "   8.70 8.75\n",
      "   8.75 8.80\n",
      "   8.80 8.85\n",
      "   8.85 8.90\n",
      "   8.90 8.95\n",
      "   8.95 9.00\n",
      "   9.00 9.05\n",
      "   9.05 9.10\n",
      "   9.10 9.15\n",
      "   9.15 9.20\n",
      "   9.20 9.25\n",
      "   9.25 9.30\n",
      "   9.30 9.35\n",
      "   9.35 9.40\n",
      "   9.40 9.45\n",
      "   9.45 9.50\n",
      "   9.50 9.55\n",
      "   9.55 9.60\n",
      "   9.60 9.65\n",
      "   9.65 9.70\n",
      "   9.70 9.75\n",
      "   9.75 9.80\n",
      "   9.80 9.85\n",
      "   9.85 9.90\n",
      "   9.90 9.95\n",
      "   9.95 10.00\n",
      "   10.00 10.05\n",
      "   10.05 10.10\n",
      "   10.10 10.15\n",
      "\n",
      "\n"
     ]
    }
   ],
   "source": [
    "print(calcsfh_input_parameter())"
   ]
  },
  {
   "cell_type": "markdown",
   "metadata": {},
   "source": [
    "If you will be running calcsfh with <code>-zinc</code>, <code>-kroupa</code>, or <code>-chabrier</code>, the input file format changes (line 2 for zinc, line 1 for IMF). Access the options as arguments."
   ]
  },
  {
   "cell_type": "code",
   "execution_count": 4,
   "metadata": {
    "collapsed": false
   },
   "outputs": [
    {
     "name": "stdout",
     "output_type": "stream",
     "text": [
      "1.35 10.000 10.000 0.050 0.000 0.000 0.050\n",
      "-2.30 0.10 0.10 -2.30 -1.00 -0.10 -1.30\n",
      "0.35 0.000001 0.000001\n",
      " 1\n",
      "0.10 0.05 5 -99.00 99.00 filter1,filter2\n",
      "-99.00 99.00 filter1\n",
      "-99.00 99.00 filter2\n",
      "0  0  \n",
      "71\n",
      "   6.60 6.65\n",
      "   6.65 6.70\n",
      "   6.70 6.75\n",
      "   6.75 6.80\n",
      "   6.80 6.85\n",
      "   6.85 6.90\n",
      "   6.90 6.95\n",
      "   6.95 7.00\n",
      "   7.00 7.05\n",
      "   7.05 7.10\n",
      "   7.10 7.15\n",
      "   7.15 7.20\n",
      "   7.20 7.25\n",
      "   7.25 7.30\n",
      "   7.30 7.35\n",
      "   7.35 7.40\n",
      "   7.40 7.45\n",
      "   7.45 7.50\n",
      "   7.50 7.55\n",
      "   7.55 7.60\n",
      "   7.60 7.65\n",
      "   7.65 7.70\n",
      "   7.70 7.75\n",
      "   7.75 7.80\n",
      "   7.80 7.85\n",
      "   7.85 7.90\n",
      "   7.90 7.95\n",
      "   7.95 8.00\n",
      "   8.00 8.05\n",
      "   8.05 8.10\n",
      "   8.10 8.15\n",
      "   8.15 8.20\n",
      "   8.20 8.25\n",
      "   8.25 8.30\n",
      "   8.30 8.35\n",
      "   8.35 8.40\n",
      "   8.40 8.45\n",
      "   8.45 8.50\n",
      "   8.50 8.55\n",
      "   8.55 8.60\n",
      "   8.60 8.65\n",
      "   8.65 8.70\n",
      "   8.70 8.75\n",
      "   8.75 8.80\n",
      "   8.80 8.85\n",
      "   8.85 8.90\n",
      "   8.90 8.95\n",
      "   8.95 9.00\n",
      "   9.00 9.05\n",
      "   9.05 9.10\n",
      "   9.10 9.15\n",
      "   9.15 9.20\n",
      "   9.20 9.25\n",
      "   9.25 9.30\n",
      "   9.30 9.35\n",
      "   9.35 9.40\n",
      "   9.40 9.45\n",
      "   9.45 9.50\n",
      "   9.50 9.55\n",
      "   9.55 9.60\n",
      "   9.60 9.65\n",
      "   9.65 9.70\n",
      "   9.70 9.75\n",
      "   9.75 9.80\n",
      "   9.80 9.85\n",
      "   9.85 9.90\n",
      "   9.90 9.95\n",
      "   9.95 10.00\n",
      "   10.00 10.05\n",
      "   10.05 10.10\n",
      "   10.10 10.15\n",
      "\n",
      "\n"
     ]
    }
   ],
   "source": [
    "print(calcsfh_input_parameter(zinc=True))"
   ]
  },
  {
   "cell_type": "code",
   "execution_count": 5,
   "metadata": {
    "collapsed": false
   },
   "outputs": [
    {
     "name": "stdout",
     "output_type": "stream",
     "text": [
      " 10.000 10.000 0.050 0.000 0.000 0.050\n",
      "-2.30 0.10 0.10 -2.30 -1.00 -0.10 -1.30\n",
      "0.35 0.000001 0.000001\n",
      " 1\n",
      "0.10 0.05 5 -99.00 99.00 filter1,filter2\n",
      "-99.00 99.00 filter1\n",
      "-99.00 99.00 filter2\n",
      "0  0  \n",
      "71\n",
      "   6.60 6.65\n",
      "   6.65 6.70\n",
      "   6.70 6.75\n",
      "   6.75 6.80\n",
      "   6.80 6.85\n",
      "   6.85 6.90\n",
      "   6.90 6.95\n",
      "   6.95 7.00\n",
      "   7.00 7.05\n",
      "   7.05 7.10\n",
      "   7.10 7.15\n",
      "   7.15 7.20\n",
      "   7.20 7.25\n",
      "   7.25 7.30\n",
      "   7.30 7.35\n",
      "   7.35 7.40\n",
      "   7.40 7.45\n",
      "   7.45 7.50\n",
      "   7.50 7.55\n",
      "   7.55 7.60\n",
      "   7.60 7.65\n",
      "   7.65 7.70\n",
      "   7.70 7.75\n",
      "   7.75 7.80\n",
      "   7.80 7.85\n",
      "   7.85 7.90\n",
      "   7.90 7.95\n",
      "   7.95 8.00\n",
      "   8.00 8.05\n",
      "   8.05 8.10\n",
      "   8.10 8.15\n",
      "   8.15 8.20\n",
      "   8.20 8.25\n",
      "   8.25 8.30\n",
      "   8.30 8.35\n",
      "   8.35 8.40\n",
      "   8.40 8.45\n",
      "   8.45 8.50\n",
      "   8.50 8.55\n",
      "   8.55 8.60\n",
      "   8.60 8.65\n",
      "   8.65 8.70\n",
      "   8.70 8.75\n",
      "   8.75 8.80\n",
      "   8.80 8.85\n",
      "   8.85 8.90\n",
      "   8.90 8.95\n",
      "   8.95 9.00\n",
      "   9.00 9.05\n",
      "   9.05 9.10\n",
      "   9.10 9.15\n",
      "   9.15 9.20\n",
      "   9.20 9.25\n",
      "   9.25 9.30\n",
      "   9.30 9.35\n",
      "   9.35 9.40\n",
      "   9.40 9.45\n",
      "   9.45 9.50\n",
      "   9.50 9.55\n",
      "   9.55 9.60\n",
      "   9.60 9.65\n",
      "   9.65 9.70\n",
      "   9.70 9.75\n",
      "   9.75 9.80\n",
      "   9.80 9.85\n",
      "   9.85 9.90\n",
      "   9.90 9.95\n",
      "   9.95 10.00\n",
      "   10.00 10.05\n",
      "   10.05 10.10\n",
      "   10.10 10.15\n",
      "\n",
      "\n"
     ]
    }
   ],
   "source": [
    "print(calcsfh_input_parameter(zinc=True, power_law_imf=False))"
   ]
  },
  {
   "cell_type": "markdown",
   "metadata": {},
   "source": [
    "To adjust the time bins, pass a dictionary as params. \n",
    "* set <code>ntbins</code>, the number of time bins, to calculate the time bin sizes using <code>tmin</code> and <code>tmax</code>.\n",
    "* set <code>tbins</code>, the time bin size, to calculate the number of time bins using <code>tmin</code> and <code>tmax</code>."
   ]
  },
  {
   "cell_type": "code",
   "execution_count": 6,
   "metadata": {
    "collapsed": false
   },
   "outputs": [
    {
     "name": "stdout",
     "output_type": "stream",
     "text": [
      "1.35 10.000 10.000 0.050 0.000 0.000 0.050\n",
      "-2.30 0.10 0.10\n",
      "0.35 0.000001 0.000001\n",
      " 1\n",
      "0.10 0.05 5 -99.00 99.00 filter1,filter2\n",
      "-99.00 99.00 filter1\n",
      "-99.00 99.00 filter2\n",
      "0  0  \n",
      "5\n",
      "   6.60 7.47\n",
      "   7.47 8.35\n",
      "   8.35 9.22\n",
      "   9.22 10.10\n",
      "\n",
      "\n"
     ]
    }
   ],
   "source": [
    "params = {'ntbins': 5}\n",
    "print(calcsfh_input_parameter(**params))"
   ]
  },
  {
   "cell_type": "code",
   "execution_count": 7,
   "metadata": {
    "collapsed": false
   },
   "outputs": [
    {
     "name": "stdout",
     "output_type": "stream",
     "text": [
      "1.35 10.000 10.000 0.050 0.000 0.000 0.050\n",
      "-2.30 0.10 0.10\n",
      "0.35 0.000001 0.000001\n",
      " 1\n",
      "0.10 0.05 5 -99.00 99.00 filter1,filter2\n",
      "-99.00 99.00 filter1\n",
      "-99.00 99.00 filter2\n",
      "0  0  \n",
      "20\n",
      "   7.50 7.60\n",
      "   7.60 7.70\n",
      "   7.70 7.80\n",
      "   7.80 7.90\n",
      "   7.90 8.00\n",
      "   8.00 8.10\n",
      "   8.10 8.20\n",
      "   8.20 8.30\n",
      "   8.30 8.40\n",
      "   8.40 8.50\n",
      "   8.50 8.60\n",
      "   8.60 8.70\n",
      "   8.70 8.80\n",
      "   8.80 8.90\n",
      "   8.90 9.00\n",
      "   9.00 9.10\n",
      "   9.10 9.20\n",
      "   9.20 9.30\n",
      "   9.30 9.40\n",
      "   9.40 9.50\n",
      "\n",
      "\n"
     ]
    }
   ],
   "source": [
    "params = {'tmax': 9.5, 'tmin': 7.5, 'tbin': 0.1}\n",
    "print(calcsfh_input_parameter(**params))"
   ]
  },
  {
   "cell_type": "markdown",
   "metadata": {},
   "source": [
    "Set the CMD limits using the same nomenclature as found in the MATCH README file. You could also add a background file."
   ]
  },
  {
   "cell_type": "code",
   "execution_count": 8,
   "metadata": {
    "collapsed": false
   },
   "outputs": [
    {
     "name": "stdout",
     "output_type": "stream",
     "text": [
      "1.35 10.000 10.000 0.050 0.000 0.000 0.050\n",
      "-2.30 0.10 0.10\n",
      "0.35 0.000001 0.000001\n",
      " 1\n",
      "0.10 0.05 5 -0.50 2.50 F555W,F814W\n",
      "16.00 24.00 F555W\n",
      "18.00 24.00 F814W\n",
      "0  0  \n",
      "20\n",
      "   7.50 7.60\n",
      "   7.60 7.70\n",
      "   7.70 7.80\n",
      "   7.80 7.90\n",
      "   7.90 8.00\n",
      "   8.00 8.10\n",
      "   8.10 8.20\n",
      "   8.20 8.30\n",
      "   8.30 8.40\n",
      "   8.40 8.50\n",
      "   8.50 8.60\n",
      "   8.60 8.70\n",
      "   8.70 8.80\n",
      "   8.80 8.90\n",
      "   8.90 9.00\n",
      "   9.00 9.10\n",
      "   9.10 9.20\n",
      "   9.20 9.30\n",
      "   9.30 9.40\n",
      "   9.40 9.50\n",
      "-1 1 -1bg.dat\n",
      "\n"
     ]
    }
   ],
   "source": [
    "params = {'tmax': 9.5, 'tmin': 7.5, 'tbin': 0.1, \n",
    "          'vmin': 16, 'vmax': 24, 'imin': 18, 'imax': 27, 'v-imin': -0.5, 'v-imax': 2.5,\n",
    "          'v': 'F555W', 'i': 'F814W', 'bg_file': 'bg.dat'}\n",
    "print(calcsfh_input_parameter(**params))"
   ]
  },
  {
   "cell_type": "markdown",
   "metadata": {},
   "source": [
    "To use this in your own script, do something like:"
   ]
  },
  {
   "cell_type": "code",
   "execution_count": 9,
   "metadata": {
    "collapsed": true
   },
   "outputs": [],
   "source": [
    "with open('match.param', 'w') as outputfile:\n",
    "    outputfile.write(calcsfh_input_parameter(**params))"
   ]
  },
  {
   "cell_type": "code",
   "execution_count": 10,
   "metadata": {
    "collapsed": false
   },
   "outputs": [
    {
     "name": "stdout",
     "output_type": "stream",
     "text": [
      "1.35 10.000 10.000 0.050 0.000 0.000 0.050\r\n",
      "-2.30 0.10 0.10\r\n",
      "0.35 0.000001 0.000001\r\n",
      " 1\r\n",
      "0.10 0.05 5 -0.50 2.50 F555W,F814W\r\n",
      "16.00 24.00 F555W\r\n",
      "18.00 24.00 F814W\r\n",
      "0  0  \r\n",
      "20\r\n",
      "   7.50 7.60\r\n",
      "   7.60 7.70\r\n",
      "   7.70 7.80\r\n",
      "   7.80 7.90\r\n",
      "   7.90 8.00\r\n",
      "   8.00 8.10\r\n",
      "   8.10 8.20\r\n",
      "   8.20 8.30\r\n",
      "   8.30 8.40\r\n",
      "   8.40 8.50\r\n",
      "   8.50 8.60\r\n",
      "   8.60 8.70\r\n",
      "   8.70 8.80\r\n",
      "   8.80 8.90\r\n",
      "   8.90 9.00\r\n",
      "   9.00 9.10\r\n",
      "   9.10 9.20\r\n",
      "   9.20 9.30\r\n",
      "   9.30 9.40\r\n",
      "   9.40 9.50\r\n",
      "-1 1 -1bg.dat\r\n"
     ]
    }
   ],
   "source": [
    "! cat match.param"
   ]
  },
  {
   "cell_type": "markdown",
   "metadata": {},
   "source": [
    "## Using different values of tbin\n",
    "Set <code>tbreak</code> to be the value where a different <code>tbin</code> value should be used. <code>tbin</code> should be an array lenth <code>tbreak + 1</code>"
   ]
  },
  {
   "cell_type": "markdown",
   "metadata": {},
   "source": [
    "* Have 6.6-9.0 at dt=0.1 and 9.0-10.15 at dt=0.05"
   ]
  },
  {
   "cell_type": "code",
   "execution_count": 15,
   "metadata": {
    "collapsed": false
   },
   "outputs": [
    {
     "name": "stdout",
     "output_type": "stream",
     "text": [
      "1.35 10.000 10.000 0.050 0.000 0.000 0.050\n",
      "-2.30 0.10 0.10\n",
      "0.35 0.000001 0.000001\n",
      " 1\n",
      "0.10 0.05 5 -0.50 2.50 F555W,F814W\n",
      "16.00 24.00 F555W\n",
      "18.00 24.00 F814W\n",
      "0  0  \n",
      "49\n",
      "   6.60 6.70\n",
      "   6.70 6.80\n",
      "   6.80 6.90\n",
      "   6.90 7.00\n",
      "   7.00 7.10\n",
      "   7.10 7.20\n",
      "   7.20 7.30\n",
      "   7.30 7.40\n",
      "   7.40 7.50\n",
      "   7.50 7.60\n",
      "   7.60 7.70\n",
      "   7.70 7.80\n",
      "   7.80 7.90\n",
      "   7.90 8.00\n",
      "   8.00 8.10\n",
      "   8.10 8.20\n",
      "   8.20 8.30\n",
      "   8.30 8.40\n",
      "   8.40 8.50\n",
      "   8.50 8.60\n",
      "   8.60 8.70\n",
      "   8.70 8.80\n",
      "   8.80 8.90\n",
      "   8.90 9.00\n",
      "   9.00 9.05\n",
      "   9.05 9.10\n",
      "   9.10 9.15\n",
      "   9.15 9.20\n",
      "   9.20 9.25\n",
      "   9.25 9.30\n",
      "   9.30 9.35\n",
      "   9.35 9.40\n",
      "   9.40 9.45\n",
      "   9.45 9.50\n",
      "   9.50 9.55\n",
      "   9.55 9.60\n",
      "   9.60 9.65\n",
      "   9.65 9.70\n",
      "   9.70 9.75\n",
      "   9.75 9.80\n",
      "   9.80 9.85\n",
      "   9.85 9.90\n",
      "   9.90 9.95\n",
      "   9.95 10.00\n",
      "   10.00 10.05\n",
      "   10.05 10.10\n",
      "   10.10 10.15\n",
      "   10.15 10.20\n",
      "-1 1 -1bg.dat\n",
      "\n"
     ]
    }
   ],
   "source": [
    "params['tmin'] = 6.6\n",
    "params['tmax'] = 10.15\n",
    "params['tbreak'] = [9.0]\n",
    "params['tbin'] = [0.1, 0.05]\n",
    "print(calcsfh_input_parameter(**params))"
   ]
  },
  {
   "cell_type": "markdown",
   "metadata": {},
   "source": [
    "* Have 6.6-7.0 at dt=0.1 and 8.0-9.0 at dt=0.05 and 9.0-10.0 at dt=0.05"
   ]
  },
  {
   "cell_type": "code",
   "execution_count": 18,
   "metadata": {
    "collapsed": false
   },
   "outputs": [
    {
     "name": "stdout",
     "output_type": "stream",
     "text": [
      "1.35 10.000 10.000 0.050 0.000 0.000 0.050\n",
      "-2.30 0.10 0.10\n",
      "0.35 0.000001 0.000001\n",
      " 1\n",
      "0.10 0.05 5 -0.50 2.50 F555W,F814W\n",
      "16.00 24.00 F555W\n",
      "18.00 24.00 F814W\n",
      "0  0  \n",
      "83\n",
      "   7.00 7.10\n",
      "   7.10 7.20\n",
      "   7.20 7.30\n",
      "   7.30 7.40\n",
      "   7.40 7.50\n",
      "   7.50 7.60\n",
      "   7.60 7.70\n",
      "   7.70 7.80\n",
      "   7.80 7.90\n",
      "   7.90 8.00\n",
      "   8.00 8.05\n",
      "   8.05 8.10\n",
      "   8.10 8.15\n",
      "   8.15 8.20\n",
      "   8.20 8.25\n",
      "   8.25 8.30\n",
      "   8.30 8.35\n",
      "   8.35 8.40\n",
      "   8.40 8.45\n",
      "   8.45 8.50\n",
      "   8.50 8.55\n",
      "   8.55 8.60\n",
      "   8.60 8.65\n",
      "   8.65 8.70\n",
      "   8.70 8.75\n",
      "   8.75 8.80\n",
      "   8.80 8.85\n",
      "   8.85 8.90\n",
      "   8.90 8.95\n",
      "   8.95 9.00\n",
      "   9.00 9.05\n",
      "   9.05 9.00\n",
      "   9.00 9.02\n",
      "   9.02 9.04\n",
      "   9.04 9.06\n",
      "   9.06 9.08\n",
      "   9.08 9.10\n",
      "   9.10 9.12\n",
      "   9.12 9.14\n",
      "   9.14 9.16\n",
      "   9.16 9.18\n",
      "   9.18 9.20\n",
      "   9.20 9.22\n",
      "   9.22 9.24\n",
      "   9.24 9.26\n",
      "   9.26 9.28\n",
      "   9.28 9.30\n",
      "   9.30 9.32\n",
      "   9.32 9.34\n",
      "   9.34 9.36\n",
      "   9.36 9.38\n",
      "   9.38 9.40\n",
      "   9.40 9.42\n",
      "   9.42 9.44\n",
      "   9.44 9.46\n",
      "   9.46 9.48\n",
      "   9.48 9.50\n",
      "   9.50 9.52\n",
      "   9.52 9.54\n",
      "   9.54 9.56\n",
      "   9.56 9.58\n",
      "   9.58 9.60\n",
      "   9.60 9.62\n",
      "   9.62 9.64\n",
      "   9.64 9.66\n",
      "   9.66 9.68\n",
      "   9.68 9.70\n",
      "   9.70 9.72\n",
      "   9.72 9.74\n",
      "   9.74 9.76\n",
      "   9.76 9.78\n",
      "   9.78 9.80\n",
      "   9.80 9.82\n",
      "   9.82 9.84\n",
      "   9.84 9.86\n",
      "   9.86 9.88\n",
      "   9.88 9.90\n",
      "   9.90 9.92\n",
      "   9.92 9.94\n",
      "   9.94 9.96\n",
      "   9.96 9.98\n",
      "   9.98 10.00\n",
      "-1 1 -1bg.dat\n",
      "\n"
     ]
    }
   ],
   "source": [
    "params['tmin'] = 7.0\n",
    "params['tmax'] = 10.0\n",
    "params['tbreak'] = [8.0, 9.0]\n",
    "params['tbin'] = [0.1, 0.05, 0.02]\n",
    "print(calcsfh_input_parameter(**params))"
   ]
  },
  {
   "cell_type": "code",
   "execution_count": 3,
   "metadata": {
    "collapsed": false
   },
   "outputs": [],
   "source": [
    "calcsfh_input_parameter?"
   ]
  },
  {
   "cell_type": "code",
   "execution_count": 5,
   "metadata": {
    "collapsed": false
   },
   "outputs": [],
   "source": [
    "from match.scripts.fileio import calcsfh_dict"
   ]
  },
  {
   "cell_type": "code",
   "execution_count": 8,
   "metadata": {
    "collapsed": false
   },
   "outputs": [
    {
     "data": {
      "text/plain": [
       "[u'dlogz',\n",
       " u'bg_sample',\n",
       " u'logzmax',\n",
       " u'logzmin',\n",
       " u'bg_smooth',\n",
       " u'bg_file',\n",
       " u'ntbins',\n",
       " u'tmin',\n",
       " u'nexclude_gates',\n",
       " u'logzmin0',\n",
       " u'logzmin1',\n",
       " u'ninclude_gates',\n",
       " u'use_bg',\n",
       " u'bad1',\n",
       " u'imf',\n",
       " u'fake_sm',\n",
       " u'imin',\n",
       " u'tbreak',\n",
       " u'v-imin',\n",
       " u'include_gates',\n",
       " u'logzmax0',\n",
       " u'logzmax1',\n",
       " u'bf',\n",
       " u'ncmds',\n",
       " u'av0',\n",
       " u'av1',\n",
       " u'v-istep',\n",
       " u'v-imax',\n",
       " u'dav',\n",
       " u'tbin',\n",
       " u'dmod1',\n",
       " u'dmod0',\n",
       " u'vmax',\n",
       " u'vstep',\n",
       " u'vmin',\n",
       " u'i',\n",
       " u'tmax',\n",
       " u'bad0',\n",
       " u'ddmod',\n",
       " u'exclude_gates',\n",
       " u'v',\n",
       " u'imax']"
      ]
     },
     "execution_count": 8,
     "metadata": {},
     "output_type": "execute_result"
    }
   ],
   "source": [
    "calcsfh_dict().keys()"
   ]
  },
  {
   "cell_type": "code",
   "execution_count": null,
   "metadata": {
    "collapsed": true
   },
   "outputs": [],
   "source": []
  }
 ],
 "metadata": {
  "kernelspec": {
   "display_name": "Python 2",
   "language": "python",
   "name": "python2"
  },
  "language_info": {
   "codemirror_mode": {
    "name": "ipython",
    "version": 2
   },
   "file_extension": ".py",
   "mimetype": "text/x-python",
   "name": "python",
   "nbconvert_exporter": "python",
   "pygments_lexer": "ipython2",
   "version": "2.7.10"
  }
 },
 "nbformat": 4,
 "nbformat_minor": 0
}
